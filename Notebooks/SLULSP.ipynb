{
  "cells": [
    {
      "cell_type": "markdown",
      "metadata": {
        "id": "mQ_z9qvAHYqX",
        "colab_type": "text"
      },
      "source": [
        "# Installiert die Google OR Tools\n",
        "\n",
        "Notwendig, wenn das Notebook via Google Colab Research gestartet wird.\n",
        "Falls das Notebook lokal aufgerufen wird, muss der Befehl \n",
        "\n",
        "'python pip install ortools'\n",
        "\n",
        "in der Console aufgerufen werden"
      ]
    },
    {
      "cell_type": "code",
      "metadata": {
        "id": "dkZWwEITHRDh",
        "colab_type": "code",
        "colab": {
          "base_uri": "https://localhost:8080/",
          "height": 346
        },
        "outputId": "6741476e-edf2-4a34-8d69-c14be5f99b45"
      },
      "source": [
        "!pip install ortools"
      ],
      "execution_count": null,
      "outputs": []
    },
    {
      "cell_type": "markdown",
      "metadata": {},
      "source": [
        "# Solver initialisieren"
      ]
    },
    {
      "cell_type": "code",
      "metadata": {
        "id": "0jFZfvEO5zYZ",
        "colab_type": "code",
        "colab": {}
      },
      "source": [
        "from ortools.linear_solver import pywraplp\n",
        " \n",
        "\n",
        "# Initialisiere und definiere den Solver\n",
        "solver = pywraplp.Solver('SLULSP',pywraplp.Solver.CBC_MIXED_INTEGER_PROGRAMMING)"
      ],
      "execution_count": null,
      "outputs": []
    },
    {
      "cell_type": "markdown",
      "metadata": {
        "id": "XIkB67CRHdC4",
        "colab_type": "text"
      },
      "source": [
        "\n",
        "\n",
        "# Parameterdeklaration\n",
        "\n",
        "Lädt die Parameter"
      ]
    },
    {
      "cell_type": "code",
      "metadata": {
        "id": "JgblTyZQ5n7K",
        "colab_type": "code",
        "colab": {}
      },
      "source": [
        "# PARAMETERDEFINITION\n",
        "d = [20,10,30,10]\n",
        "l = 1\n",
        "s = 20\n",
        "M = sum(d)\n",
        "T = len(d)"
      ],
      "execution_count": null,
      "outputs": []
    },
    {
      "cell_type": "markdown",
      "metadata": {
        "id": "0W5SvO5I0Khq",
        "colab_type": "text"
      },
      "source": [
        "# Variablendeklaration\n",
        "\n",
        "Legt die Variablen an und definiert den Wertebereich"
      ]
    },
    {
      "cell_type": "code",
      "metadata": {
        "id": "SAh7qlc-K3Ac",
        "colab_type": "code",
        "colab": {}
      },
      "source": [
        "# VARIABLENDEKLARATION \n",
        "L = [[]]*T\n",
        "X = [[]]*T\n",
        "y = [[]]*T \n",
        "    \n",
        "for t in range(T): \n",
        "  L[t] = solver.NumVar(0.0, solver.infinity(),  \"L_%s\"%(t))\n",
        "  X[t] = solver.NumVar(0.0, solver.infinity(),\"\")\n",
        "  y[t] = solver.BoolVar(\"\")"
      ],
      "execution_count": null,
      "outputs": []
    },
    {
      "cell_type": "markdown",
      "metadata": {
        "id": "f3bvXvrBK5gi",
        "colab_type": "text"
      },
      "source": [
        "# Nebenbedingungen\n",
        "\n",
        "Legt die Lagerbilanzgleichung und die Rüstrestriktion"
      ]
    },
    {
      "cell_type": "code",
      "metadata": {
        "id": "6wT0kfAoBI42",
        "colab_type": "code",
        "colab": {}
      },
      "source": [
        "#### DEFINITION DER NEBENBEDINGUNGEN ####\n",
        "\n",
        "# (2) Lagerbilanzgleichung\n",
        "\n",
        "# Erste Periode (ohne Anfangslagerbestand)\n",
        "solver.Add(X[0] - d[0] == L[0])\n",
        "# Alle anderen Perioden \n",
        "# (unter Berücksichtigung des Lagerendbestands der Vorperiode)\n",
        "for t in range(1,T):\n",
        "  solver.Add(L[t-1]+X[t]-d[t]==L[t])\n",
        " \n",
        "# (3) Rüstrestriktion\n",
        "for t in range(T):\n",
        "  solver.Add(X[t] <= y[t]*M)"
      ],
      "execution_count": null,
      "outputs": []
    },
    {
      "cell_type": "markdown",
      "metadata": {
        "id": "GYmvBdMDA_ub",
        "colab_type": "text"
      },
      "source": [
        "# Definition der Zielfunktion \n",
        "Minimerung der Summe aus Lage- und Rüstkosten"
      ]
    },
    {
      "cell_type": "code",
      "metadata": {
        "id": "uFEGkDdkBOLL",
        "colab_type": "code",
        "colab": {}
      },
      "source": [
        "# DEFINITION DER ZIELFUNKTION\n",
        "objective = solver.Objective()\n",
        "for t in range(T):\n",
        "  objective.SetCoefficient(L[t], l) # Multipliziert L[t] mit l und fügt ein \"+\" hinter\n",
        "  objective.SetCoefficient(y[t], s) # Multipliziert y[t] mit s und fügt ein \"+\" hinter\n",
        "objective.SetMinimization()"
      ],
      "execution_count": null,
      "outputs": []
    },
    {
      "cell_type": "markdown",
      "metadata": {
        "id": "L92z6noUBPbp",
        "colab_type": "text"
      },
      "source": [
        "# Triggern des Lösungsvorgangs\n",
        "\n",
        "Ausgabe der Lösung"
      ]
    },
    {
      "cell_type": "code",
      "metadata": {
        "id": "LRHKQh-4Hgr1",
        "colab_type": "code",
        "colab": {
          "base_uri": "https://localhost:8080/",
          "height": 237
        },
        "outputId": "cadb2395-ee6e-4a9e-a58a-6f3e707d357a"
      },
      "source": [
        "# TRIGGERN DES LÖSUNGSVORGANGS\n",
        "status = solver.Solve()\n",
        "    \n",
        " \n",
        "# AUSGABE DER LÖSUNG\n",
        "print('Number of variables =', solver.NumVariables())\n",
        "print('Number of constraints =', solver.NumConstraints())\n",
        "\n",
        "if status == pywraplp.Solver.OPTIMAL:\n",
        "  print('Lösung:')\n",
        "  print('Zielfunktionswert =', solver.Objective().Value())\n",
        "  print('X =', [X[t].solution_value() for t in range(T)])\n",
        "  print('y =', [y[t].solution_value() for t in range(T)])\n",
        "  print(\"L =\", [L[t].solution_value() for t in range(T)])\n",
        "else:\n",
        "  print('The problem does not have an optimal solution.')\n",
        "    \n",
        "# AUSGABE DER LÖSUNGSZEIT UND ANGABEN ZUM LÖSUNGSVORGANG\n",
        "print('\\nAdvanced usage:')\n",
        "print('Problem solved in %f milliseconds' % solver.wall_time())\n",
        "print('Problem solved in %d iterations' % solver.iterations())\n",
        "print('Problem solved in %d branch-and-bound nodes' % solver.nodes())\n",
        "    \n"
      ],
      "execution_count": null,
      "outputs": []
    }
  ],
  "metadata": {
    "colab": {
      "name": "SLULSP.ipynb",
      "provenance": []
    },
    "kernelspec": {
      "name": "python3",
      "display_name": "Python 3"
    }
  },
  "nbformat": 4,
  "nbformat_minor": 0
}