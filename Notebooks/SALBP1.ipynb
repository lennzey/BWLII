{
  "nbformat": 4,
  "nbformat_minor": 0,
  "metadata": {
    "colab": {
      "name": "SALBP1.ipynb",
      "provenance": [],
      "collapsed_sections": []
    },
    "kernelspec": {
      "name": "python3",
      "display_name": "Python 3"
    }
  },
  "cells": [
    {
      "cell_type": "markdown",
      "metadata": {
        "id": "IH92wLr6NvRH",
        "colab_type": "text"
      },
      "source": [
        "# Laden der OR Tools\n",
        "\n",
        "*(nur notwendig, wenn noch nicht installiert)*\n",
        "\n",
        "Link zum Notebook in Colab Research: [Link](https://colab.research.google.com/drive/1sjqX_7IK_bb-_CyTytvugFoYZn7B11Kh?usp=sharing)"
      ]
    },
    {
      "cell_type": "code",
      "metadata": {
        "id": "PCgBZLlGNtRM",
        "colab_type": "code",
        "colab": {}
      },
      "source": [
        "!pip install ortools"
      ],
      "execution_count": null,
      "outputs": []
    },
    {
      "cell_type": "markdown",
      "metadata": {
        "id": "oVABkW3tN7aU",
        "colab_type": "text"
      },
      "source": [
        "# Solver initialisieren & Parameterdefinition\n",
        "\n",
        "* Lädt notwendige Bibliotheken und initialisiert Solver\n",
        "\n",
        "* Definiert Parameter für die folgende Instanz\n",
        "\n",
        "![Instanz](https://drive.google.com/file/d/1JmtMs7MXilPrWLgAIai__fH3sPsTdKmO/)"
      ]
    },
    {
      "cell_type": "code",
      "metadata": {
        "id": "w3uqI2NgOi7n",
        "colab_type": "code",
        "colab": {}
      },
      "source": [
        "from ortools.linear_solver import pywraplp\n",
        "\n",
        "# Initialisiere und definiere den Solver\n",
        "solver = pywraplp.Solver(\n",
        "    'MIP Standort kurz', pywraplp.Solver.CBC_MIXED_INTEGER_PROGRAMMING)\n",
        "\n",
        "# PARAMETERDEFINITION\n",
        "\n",
        "# t_i Dauer der Arbeitsschritte\n",
        "t = [3, 3, 4, 3, 2, 7, 5, 3]\n",
        "C = 7\n",
        "I = len(t)\n",
        "M = len(t)\n",
        "\n",
        "#Nachfolger S_i\n",
        "S = [[1,2,3,4,5,6,7], # 0\n",
        "     [3,5,6,7],       # 1\n",
        "     [4,5,7],         # 2\n",
        "     [5,6,7],         # 3\n",
        "     [7],             # 4\n",
        "     [7],             # 5\n",
        "     [7],             # 6\n",
        "     []]              # 7"
      ],
      "execution_count": 7,
      "outputs": []
    },
    {
      "cell_type": "markdown",
      "metadata": {
        "id": "5GXo18LoQRhD",
        "colab_type": "text"
      },
      "source": [
        "# Variablendeklaration"
      ]
    },
    {
      "cell_type": "code",
      "metadata": {
        "id": "Ct7QrJSbQTzw",
        "colab_type": "code",
        "colab": {}
      },
      "source": [
        "# VARIABLENDEKLARATION\n",
        "# x_i,m aus {0,1}\n",
        "x = [[]]*I\n",
        "for i in range(I):\n",
        "    x[i] = [solver.BoolVar(\"x_%s_%d\" % (i, m)) for m in range(M)]\n",
        "\n",
        "# y_m als Boolean\n",
        "y = [solver.BoolVar(\"y_%s\" % m) for m in range(M)]"
      ],
      "execution_count": 8,
      "outputs": []
    },
    {
      "cell_type": "markdown",
      "metadata": {
        "id": "WwS0bee0Q0Fz",
        "colab_type": "text"
      },
      "source": [
        "# Definition der Nebenbedingungen und Zielfunktion"
      ]
    },
    {
      "cell_type": "code",
      "metadata": {
        "id": "aaPKd8dlQ2cx",
        "colab_type": "code",
        "colab": {}
      },
      "source": [
        "#### DEFINITION DER NEBENBEDINGUNGEN ####\n",
        "\n",
        "# (2) Jeder AS muss zugeordnet werden (Summe x_im==1)\n",
        "for i in range(I):\n",
        "    sum_xim = solver.Sum([x[i][m] for m in range(M)])\n",
        "    solver.Add(sum_xim == 1)\n",
        "\n",
        "# (3) Taktzeit darf nicht überschritten werden t_i * x_im <= C*ym\n",
        "for m in range(M):\n",
        "    sum_ti_xim = solver.Sum([t[i]*x[i][m] for i in range(I)])\n",
        "    solver.Add(sum_ti_xim <= C*y[m])\n",
        "\n",
        "# (4) Kein Vorgänger zu späterer Station sum m*x_im <= m*x_jm\n",
        "for i in range(I):\n",
        "    sum_m_xim = solver.Sum([m * x[i][m] for m in range(M)])\n",
        "    for j in S[i]:\n",
        "      sum_m_xjm = solver.Sum([m * x[j][m] for m in range(M)])\n",
        "      solver.Add(sum_m_xim <= sum_m_xjm)\n",
        "\n",
        "\n",
        "# DEFINITION DER ZIELFUNKTION\n",
        "nr_stations = solver.Sum(y[m] for m in range(M))\n",
        "solver.Minimize(nr_stations)"
      ],
      "execution_count": 9,
      "outputs": []
    },
    {
      "cell_type": "markdown",
      "metadata": {
        "id": "qgcdGMveSO4T",
        "colab_type": "text"
      },
      "source": [
        "# Starten des Lösungsvorgangs\n",
        "\n",
        "inkl. Ausgabe der Lösung"
      ]
    },
    {
      "cell_type": "code",
      "metadata": {
        "id": "D6lsHPZbSZbE",
        "colab_type": "code",
        "colab": {}
      },
      "source": [
        "# TRIGGERN DES LÖSUNGSVORGANGS\n",
        "status = solver.Solve()\n",
        "\n",
        "# AUSGABE DER LÖSUNG\n",
        "print('Anzahl Variablen =', solver.NumVariables())\n",
        "print('Anzahl Nebenbedingungen =', solver.NumConstraints())\n",
        "\n",
        "if status == pywraplp.Solver.OPTIMAL:\n",
        "    print('Lösung:')\n",
        "    print('Zielfunktionswert =', solver.Objective().Value())\n",
        "    print(\"Stationen = \", [y[m].solution_value() for m in range(M)])\n",
        "    for m in range(M):\n",
        "      if y[m].solution_value()> 0:\n",
        "        print(\"AS an Station \", m , \": \", [i for i in range(I) if x[i][m].solution_value() > 0])\n",
        "        \n",
        "\n",
        "else:\n",
        "    print('Keine Lösung gefunden')\n",
        "\n",
        "# AUSGABE DER LÖSUNGSZEIT UND ANGABEN ZUM LÖSUNGSVORGANG\n",
        "print('\\nLösungsvorgang:')\n",
        "print('Problem solved in %f milliseconds' % solver.wall_time())\n",
        "print('Problem solved in %d iterations' % solver.iterations())\n",
        "print('Problem solved in %d branch-and-bound nodes' % solver.nodes())"
      ],
      "execution_count": null,
      "outputs": []
    }
  ]
}