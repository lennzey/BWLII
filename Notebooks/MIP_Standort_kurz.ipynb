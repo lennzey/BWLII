{
  "nbformat": 4,
  "nbformat_minor": 0,
  "metadata": {
    "colab": {
      "name": "MIP_Standort_kurz.ipynb",
      "provenance": []
    },
    "kernelspec": {
      "name": "python3",
      "display_name": "Python 3"
    }
  },
  "cells": [
    {
      "cell_type": "markdown",
      "metadata": {
        "id": "ZAxu9eqiy2x_",
        "colab_type": "text"
      },
      "source": [
        "# Laden der OR Tools\n",
        "\n",
        "*(nur notwendig, wenn noch nicht installiert)*\n",
        "\n",
        "Link zum Notebook in Colab Research: [Link](https://colab.research.google.com/drive/1qEFvXmiMBi9AkOLOGj6wD5Xk3T05hftE?usp=sharing)"
      ]
    },
    {
      "cell_type": "code",
      "metadata": {
        "id": "sj9JSfrmyw0R",
        "colab_type": "code",
        "colab": {}
      },
      "source": [
        "!pip install ortools"
      ],
      "execution_count": null,
      "outputs": []
    },
    {
      "cell_type": "markdown",
      "metadata": {
        "id": "7u20FnvLy3l8",
        "colab_type": "text"
      },
      "source": [
        "# Solver initialisieren & Parameterdefinition\n",
        "\n",
        "Lädt notwendige Bibliotheken und initialisiert Solver"
      ]
    },
    {
      "cell_type": "code",
      "metadata": {
        "id": "J0DidBkRy38b",
        "colab_type": "code",
        "colab": {}
      },
      "source": [
        "from ortools.linear_solver import pywraplp\n",
        "\n",
        "# Initialisiere und definiere den Solver\n",
        "solver = pywraplp.Solver(\n",
        "    'MIP Standort kurz', pywraplp.Solver.CBC_MIXED_INTEGER_PROGRAMMING)\n",
        "\n",
        "# PARAMETERDEFINITION\n",
        "\n",
        "# Fixkosten\n",
        "f = [10, 20, 10, 30, 12, 17]\n",
        "\n",
        "# Transportkosten\n",
        "c = [[10, 5, 10, 16, 9, 16, 14, 15],\n",
        "     [16, 13, 14, 11, 7, 15, 19, 8],\n",
        "     [16, 16, 11, 17, 9, 17, 16, 6],\n",
        "     [15, 14, 9, 7, 7, 5, 11, 18],\n",
        "     [16, 13, 9, 20, 13, 8, 10, 9],\n",
        "     [13, 14, 4, 17, 8, 7, 4, 10]]\n",
        "\n",
        "# Kapazitäten\n",
        "b = [100, 70, 110, 90, 120, 75]\n",
        "\n",
        "# Nachfragen\n",
        "d = [50, 70, 55, 22, 35, 71, 90, 100]\n",
        "\n",
        "# Anzahl Standorte\n",
        "I = len(f)\n",
        "\n",
        "# Anzahl Kunden\n",
        "J = len(d)"
      ],
      "execution_count": null,
      "outputs": []
    },
    {
      "cell_type": "markdown",
      "metadata": {
        "id": "QYhro_TLzC2Q",
        "colab_type": "text"
      },
      "source": [
        "# Variablendeklaration"
      ]
    },
    {
      "cell_type": "code",
      "metadata": {
        "id": "ZKTSJIYXzDNZ",
        "colab_type": "code",
        "colab": {}
      },
      "source": [
        "# VARIABLENDEKLARATION\n",
        "# x_i,j >= 0\n",
        "x = [[]]*I\n",
        "for i in range(I):\n",
        "    x[i] = [solver.NumVar(0.0, solver.infinity(), \"x_%s_%d\" % (i, j))\n",
        "            for j in range(J)]\n",
        "\n",
        "# y_i als Boolean\n",
        "y = [solver.BoolVar(\"y_%s\" % i) for i in range(I)]"
      ],
      "execution_count": null,
      "outputs": []
    },
    {
      "cell_type": "markdown",
      "metadata": {
        "id": "3sOMiXPgy4a5",
        "colab_type": "text"
      },
      "source": [
        "# Definition der Nebenbedingungen und Zielfunktion"
      ]
    },
    {
      "cell_type": "code",
      "metadata": {
        "id": "cDXjFWhNy4uQ",
        "colab_type": "code",
        "colab": {}
      },
      "source": [
        "#### DEFINITION DER NEBENBEDINGUNGEN ####\n",
        "\n",
        "# (2) Liefermenge an j >= Nachfrage j\n",
        "for j in range(J):\n",
        "    sum_menge_j = solver.Sum([x[i][j] for i in range(I)])\n",
        "    solver.Add(sum_menge_j >= d[j])\n",
        "\n",
        "# (3) Liefermenge <= Kapazität / offen\n",
        "for i in range(I):\n",
        "    sum_menge_i = solver.Sum([x[i][j] for j in range(J)])\n",
        "    solver.Add(sum_menge_i <= b[i]*y[i])\n",
        "\n",
        "# DEFINITION DER ZIELFUNKTION\n",
        "sum_fix_cost = solver.Sum([f[i]*y[i] for i in range(I)])\n",
        "sum_transport_cost = solver.Sum([c[i][j] * x[i][j]\n",
        "                                 for i in range(I) for j in range(J)])\n",
        "solver.Minimize(sum_fix_cost + sum_transport_cost)"
      ],
      "execution_count": null,
      "outputs": []
    },
    {
      "cell_type": "markdown",
      "metadata": {
        "id": "Lg4Qo83Ay58Q",
        "colab_type": "text"
      },
      "source": [
        "# Starten des Lösungsvorgangs\n",
        "\n",
        "inkl. Ausgabe der Lösung"
      ]
    },
    {
      "cell_type": "code",
      "metadata": {
        "id": "zWBc6Y2Cy7Nb",
        "colab_type": "code",
        "colab": {}
      },
      "source": [
        "# TRIGGERN DES LÖSUNGSVORGANGS\n",
        "status = solver.Solve()\n",
        "\n",
        "\n",
        "# AUSGABE DER LÖSUNG\n",
        "print('Number of variables =', solver.NumVariables())\n",
        "print('Number of constraints =', solver.NumConstraints())\n",
        "\n",
        "if status == pywraplp.Solver.OPTIMAL:\n",
        "    print('Lösung:')\n",
        "    print('Zielfunktionswert =', solver.Objective().Value())\n",
        "    for i in range(I):\n",
        "        for j in range(J):\n",
        "            if x[i][j].solution_value() > 0:\n",
        "                print('Liefermenge von Standort ', i,\n",
        "                      ' and Kunde ', j, ' = ', x[i][j].solution_value())\n",
        "\n",
        "else:\n",
        "    print('Keine Lösung gefunden')\n",
        "\n",
        "# AUSGABE DER LÖSUNGSZEIT UND ANGABEN ZUM LÖSUNGSVORGANG\n",
        "print('\\nLösungsvorgang:')\n",
        "print('Problem solved in %f milliseconds' % solver.wall_time())\n",
        "print('Problem solved in %d iterations' % solver.iterations())\n",
        "print('Problem solved in %d branch-and-bound nodes' % solver.nodes())"
      ],
      "execution_count": null,
      "outputs": []
    }
  ]
}