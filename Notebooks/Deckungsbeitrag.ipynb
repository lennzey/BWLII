{
  "nbformat": 4,
  "nbformat_minor": 0,
  "metadata": {
    "colab": {
      "name": "Deckungsbeitrag.ipynb",
      "provenance": []
    },
    "kernelspec": {
      "name": "python3",
      "display_name": "Python 3"
    }
  },
  "cells": [
    {
      "cell_type": "markdown",
      "metadata": {
        "id": "RMY5YGfG9SKo",
        "colab_type": "text"
      },
      "source": [
        "# Laden der OR Tools\n",
        "\n",
        "*(nur notwendig, wenn noch nicht installiert)*\n",
        "\n",
        "Link zum Notebook in Colab Research: [Link](https://colab.research.google.com/drive/1fqDsTUp-t-2XtfbK_9qL7kxhC9eZPgGY?usp=sharing)"
      ]
    },
    {
      "cell_type": "code",
      "metadata": {
        "id": "Y0oqiRBq9Tqh",
        "colab_type": "code",
        "colab": {}
      },
      "source": [
        "!pip install ortools"
      ],
      "execution_count": null,
      "outputs": []
    },
    {
      "cell_type": "markdown",
      "metadata": {
        "id": "0GuOjTfE9VoG",
        "colab_type": "text"
      },
      "source": [
        "# Solver initialisieren & Parameterdefinition\n",
        "\n",
        "* Lädt notwendige Bibliotheken und initialisiert Solver\n",
        "\n",
        "* Definiert Parameter für das Beispiel aus der VL\n"
      ]
    },
    {
      "cell_type": "code",
      "metadata": {
        "id": "bduH5ika9IG9",
        "colab_type": "code",
        "colab": {}
      },
      "source": [
        "from ortools.linear_solver import pywraplp\n",
        "\n",
        "# Initialisiere und definiere den Solver\n",
        "solver = pywraplp.Solver(\n",
        "    'Deckungsbeitrag_lang', pywraplp.Solver.CBC_MIXED_INTEGER_PROGRAMMING)\n",
        "\n",
        "# PARAMETERDEFINITION\n",
        "X_1_max = 1\n",
        "X_2_max = 1\n",
        "X_3_max = 7\n",
        "C = 5\n",
        "d_1 = 18\n",
        "d_2 = 8\n",
        "d_3 = 2.6\n",
        "c_1 = 3.3\n",
        "c_2 = 1.5\n",
        "c_3 = 0.5"
      ],
      "execution_count": null,
      "outputs": []
    },
    {
      "cell_type": "markdown",
      "metadata": {
        "id": "CxcRmDD09fgL",
        "colab_type": "text"
      },
      "source": [
        "# Variablendeklaration"
      ]
    },
    {
      "cell_type": "code",
      "metadata": {
        "id": "RVxLrO9Q9lXh",
        "colab_type": "code",
        "colab": {}
      },
      "source": [
        "# VARIABLENDEKLARATION\n",
        "x_1 = solver.IntVar(0.0, solver.infinity(),  \"x_1\")\n",
        "x_2 = solver.IntVar(0.0, solver.infinity(),  \"x_2\")\n",
        "x_3 = solver.IntVar(0.0, solver.infinity(),  \"x_3\")"
      ],
      "execution_count": null,
      "outputs": []
    },
    {
      "cell_type": "markdown",
      "metadata": {
        "id": "4VKRP1E-9pfY",
        "colab_type": "text"
      },
      "source": [
        "# Definition der Nebenbedingungen und Zielfunktion"
      ]
    },
    {
      "cell_type": "code",
      "metadata": {
        "id": "IYdv6OI-9uOc",
        "colab_type": "code",
        "colab": {}
      },
      "source": [
        "#### DEFINITION DER NEBENBEDINGUNGEN ####\n",
        "\n",
        "# X_max\n",
        "solver.Add(x_1 <= X_1_max)\n",
        "solver.Add(x_2 <= X_2_max)\n",
        "solver.Add(x_3 <= X_3_max)\n",
        "\n",
        "# Kapazitätsverbrauch\n",
        "solver.Add(c_1 * x_1 + c_2 * x_2 + c_3 * x_3 <= C)\n",
        "\n",
        "# DEFINITION DER ZIELFUNKTION\n",
        "solver.Maximize(d_1 * x_1 + d_2 * x_2 + d_3 * x_3)"
      ],
      "execution_count": null,
      "outputs": []
    },
    {
      "cell_type": "markdown",
      "metadata": {
        "id": "7RR_xXgI9zMb",
        "colab_type": "text"
      },
      "source": [
        "# Starten des Lösungsvorgangs\n",
        "\n",
        "inkl. Ausgabe der Lösung"
      ]
    },
    {
      "cell_type": "code",
      "metadata": {
        "id": "Cqh_TGjP90W3",
        "colab_type": "code",
        "colab": {}
      },
      "source": [
        "# TRIGGERN DES LÖSUNGSVORGANGS\n",
        "status = solver.Solve()\n",
        "\n",
        "# AUSGABE DER LÖSUNG\n",
        "print('Anzahl Variablen =', solver.NumVariables())\n",
        "print('Anzahl Nebenbedingungen =', solver.NumConstraints())\n",
        "\n",
        "if status == pywraplp.Solver.OPTIMAL:\n",
        "    print('Lösung:')\n",
        "    print('Zielfunktionswert =', solver.Objective().Value())\n",
        "    print('x_1 =', x_1.solution_value())\n",
        "    print('x_2 =', x_2.solution_value())\n",
        "    print('x_3 =', x_3.solution_value())\n",
        "else:\n",
        "    print('Keine optimale Lösung gefunden.')\n",
        "\n",
        "# AUSGABE DER LÖSUNGSZEIT UND ANGABEN ZUM LÖSUNGSVORGANG\n",
        "print('\\nLösungsvorgang:')\n",
        "print('Problem solved in %f milliseconds' % solver.wall_time())\n",
        "print('Problem solved in %d iterations' % solver.iterations())\n",
        "print('Problem solved in %d branch-and-bound nodes' % solver.nodes())"
      ],
      "execution_count": null,
      "outputs": []
    }
  ]
}