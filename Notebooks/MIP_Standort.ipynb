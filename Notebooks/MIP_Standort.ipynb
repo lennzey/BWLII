{
  "nbformat": 4,
  "nbformat_minor": 0,
  "metadata": {
    "colab": {
      "name": "MIP Standort.ipynb",
      "provenance": []
    },
    "kernelspec": {
      "name": "python3",
      "display_name": "Python 3"
    }
  },
  "cells": [
    {
      "cell_type": "markdown",
      "metadata": {
        "id": "gpFnKqQFoo92",
        "colab_type": "text"
      },
      "source": [
        "# Laden der OR Tools"
      ]
    },
    {
      "cell_type": "code",
      "metadata": {
        "id": "8s9AbsgMoZl1",
        "colab_type": "code",
        "colab": {}
      },
      "source": [
        "!pip install ortools"
      ],
      "execution_count": null,
      "outputs": []
    },
    {
      "cell_type": "markdown",
      "metadata": {
        "id": "ivjb876tousP",
        "colab_type": "text"
      },
      "source": [
        "# Solver initialisieren\n",
        "\n",
        "Lädt notwendige Bibliotheken und initialisiert Solver"
      ]
    },
    {
      "cell_type": "code",
      "metadata": {
        "id": "FXzG6yk1o5EJ",
        "colab_type": "code",
        "colab": {}
      },
      "source": [
        "from ortools.linear_solver import pywraplp\n",
        "\n",
        "# Initialisiere und definiere den Solver\n",
        "solver = pywraplp.Solver(\n",
        "    'MIP Standort', pywraplp.Solver.CBC_MIXED_INTEGER_PROGRAMMING)"
      ],
      "execution_count": null,
      "outputs": []
    },
    {
      "cell_type": "markdown",
      "metadata": {
        "id": "IWp6iDBoo9Wb",
        "colab_type": "text"
      },
      "source": [
        "# Parameterdefinition"
      ]
    },
    {
      "cell_type": "code",
      "metadata": {
        "id": "GZAcHpwapAI_",
        "colab_type": "code",
        "colab": {}
      },
      "source": [
        "# PARAMETERDEFINITION\n",
        "\n",
        "# Fixkosten\n",
        "f = [10, 20, 10, 30, 12, 17]\n",
        "\n",
        "# Transportkosten\n",
        "c = [[10, 5, 10, 16, 9, 16, 14, 15],\n",
        "     [16, 13, 14, 11, 7, 15, 19, 8],\n",
        "     [16, 16, 11, 17, 9, 17, 16, 6],\n",
        "     [15, 14, 9, 7, 7, 5, 11, 18],\n",
        "     [16, 13, 9, 20, 13, 8, 10, 9],\n",
        "     [13, 14, 4, 17, 8, 7, 4, 10]]\n",
        "\n",
        "# Kapazitäten\n",
        "b = [100, 70, 110, 90, 120, 75]\n",
        "\n",
        "# Nachfragen\n",
        "d = [50, 70, 55, 22, 35, 71, 90, 100]\n",
        "\n",
        "# Anzahl Standorte\n",
        "I = len(f)\n",
        "\n",
        "# Anzahl Kunden\n",
        "J = len(d)"
      ],
      "execution_count": null,
      "outputs": []
    },
    {
      "cell_type": "markdown",
      "metadata": {
        "id": "q9IdWqK4pDww",
        "colab_type": "text"
      },
      "source": [
        "# Variablendeklaration"
      ]
    },
    {
      "cell_type": "code",
      "metadata": {
        "id": "veP1-gjkpFyE",
        "colab_type": "code",
        "colab": {}
      },
      "source": [
        "# VARIABLENDEKLARATION\n",
        "x = [[]]*I\n",
        "for i in range(I):\n",
        "    x[i] = [[]]*J\n",
        "    for j in range(J):\n",
        "        x[i][j] = solver.NumVar(0.0, solver.infinity(), \"x_%s_%d\" % (i, j))\n",
        "\n",
        "y = [[]]*I\n",
        "for i in range(I):\n",
        "    y[i] = solver.BoolVar(\"y_%s\" % i)"
      ],
      "execution_count": null,
      "outputs": []
    },
    {
      "cell_type": "markdown",
      "metadata": {
        "id": "4hm_sLSgpI1h",
        "colab_type": "text"
      },
      "source": [
        "# Definition der Nebenbedingungen"
      ]
    },
    {
      "cell_type": "code",
      "metadata": {
        "id": "r7EH0gzhpLkC",
        "colab_type": "code",
        "colab": {}
      },
      "source": [
        "#### DEFINITION DER NEBENBEDINGUNGEN ####\n",
        "\n",
        "# (2) Liefermenge an j >= Nachfrage j\n",
        "for j in range(J):\n",
        "    menge_j = []\n",
        "    for i in range(I):\n",
        "        menge_j.append(x[i][j])\n",
        "    solver.Add(solver.Sum(menge_j) >= d[j])\n",
        "\n",
        "# (3) Liefermenge <= Kapazität / offen\n",
        "for i in range(I):\n",
        "    menge_i = []\n",
        "    for j in range(J):\n",
        "        menge_i.append(x[i][j])\n",
        "    solver.Add(sum(menge_i) <= b[i]*y[i])"
      ],
      "execution_count": null,
      "outputs": []
    },
    {
      "cell_type": "markdown",
      "metadata": {
        "id": "DgQ-VFOApOWR",
        "colab_type": "text"
      },
      "source": [
        "# Definition der Zielfunktion"
      ]
    },
    {
      "cell_type": "code",
      "metadata": {
        "id": "KwiYl3eUpQ9F",
        "colab_type": "code",
        "colab": {}
      },
      "source": [
        "# DEFINITION DER ZIELFUNKTION\n",
        "fix = []\n",
        "for i in range(I):\n",
        "    fix.append(f[i]*y[i])\n",
        "\n",
        "transport = []\n",
        "for i in range(I):\n",
        "    for j in range(J):\n",
        "        transport.append(c[i][j] * x[i][j])\n",
        "solver.Minimize(sum(fix) + sum(transport))"
      ],
      "execution_count": null,
      "outputs": []
    },
    {
      "cell_type": "markdown",
      "metadata": {
        "id": "U3g7AjcEpT-i",
        "colab_type": "text"
      },
      "source": [
        "# Starten des Lösungsvorgangs\n",
        "\n",
        "inkl. Ausgabe der Lösung"
      ]
    },
    {
      "cell_type": "code",
      "metadata": {
        "id": "Nhl-CjBTpYC9",
        "colab_type": "code",
        "colab": {}
      },
      "source": [
        "# TRIGGERN DES LÖSUNGSVORGANGS\n",
        "status = solver.Solve()\n",
        "\n",
        "# AUSGABE DER LÖSUNG\n",
        "print('Number of variables =', solver.NumVariables())\n",
        "print('Number of constraints =', solver.NumConstraints())\n",
        "\n",
        "if status == pywraplp.Solver.OPTIMAL:\n",
        "    print('Lösung:')\n",
        "    print('Zielfunktionswert =', solver.Objective().Value())\n",
        "    for i in range(I):\n",
        "        for j in range(J):\n",
        "            if x[i][j].solution_value() > 0:\n",
        "                print('Liefermenge von Standort ', i,\n",
        "                      ' and Kunde ', j, ' = ', x[i][j].solution_value())\n",
        "else:\n",
        "    print('Keine Lösung gefunden')\n",
        "\n",
        "# AUSGABE DER LÖSUNGSZEIT UND ANGABEN ZUM LÖSUNGSVORGANG\n",
        "print('\\nLösungsvorgang:')\n",
        "print('Problem solved in %f milliseconds' % solver.wall_time())\n",
        "print('Problem solved in %d iterations' % solver.iterations())\n",
        "print('Problem solved in %d branch-and-bound nodes' % solver.nodes())"
      ],
      "execution_count": null,
      "outputs": []
    }
  ]
}