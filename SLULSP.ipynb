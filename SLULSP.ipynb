{
  "nbformat": 4,
  "nbformat_minor": 0,
  "metadata": {
    "colab": {
      "name": "SLULSP.ipynb",
      "provenance": []
    },
    "kernelspec": {
      "name": "python3",
      "display_name": "Python 3"
    }
  },
  "cells": [
    {
      "cell_type": "markdown",
      "metadata": {
        "id": "mQ_z9qvAHYqX",
        "colab_type": "text"
      },
      "source": [
        "# Installiert die Google OR Tools"
      ]
    },
    {
      "cell_type": "code",
      "metadata": {
        "id": "dkZWwEITHRDh",
        "colab_type": "code",
        "colab": {
          "base_uri": "https://localhost:8080/",
          "height": 346
        },
        "outputId": "6741476e-edf2-4a34-8d69-c14be5f99b45"
      },
      "source": [
        "!pip install ortools"
      ],
      "execution_count": null,
      "outputs": [
        {
          "output_type": "stream",
          "text": [
            "Collecting ortools\n",
            "\u001b[?25l  Downloading https://files.pythonhosted.org/packages/16/eb/61e676d87bd1089f487f3a03f436197433122a97cb501dea46041fc10480/ortools-7.7.7810-cp36-cp36m-manylinux1_x86_64.whl (29.4MB)\n",
            "\u001b[K     |████████████████████████████████| 29.5MB 145kB/s \n",
            "\u001b[?25hCollecting protobuf>=3.12.2\n",
            "\u001b[?25l  Downloading https://files.pythonhosted.org/packages/28/05/9867ef8eafd12265267bee138fa2c46ebf34a276ea4cbe184cba4c606e8b/protobuf-3.12.2-cp36-cp36m-manylinux1_x86_64.whl (1.3MB)\n",
            "\u001b[K     |████████████████████████████████| 1.3MB 46.9MB/s \n",
            "\u001b[?25hRequirement already satisfied: six>=1.10 in /usr/local/lib/python3.6/dist-packages (from ortools) (1.12.0)\n",
            "Requirement already satisfied: setuptools in /usr/local/lib/python3.6/dist-packages (from protobuf>=3.12.2->ortools) (47.3.1)\n",
            "Installing collected packages: protobuf, ortools\n",
            "  Found existing installation: protobuf 3.10.0\n",
            "    Uninstalling protobuf-3.10.0:\n",
            "      Successfully uninstalled protobuf-3.10.0\n",
            "Successfully installed ortools-7.7.7810 protobuf-3.12.2\n"
          ],
          "name": "stdout"
        },
        {
          "output_type": "display_data",
          "data": {
            "application/vnd.colab-display-data+json": {
              "pip_warning": {
                "packages": [
                  "google"
                ]
              }
            }
          },
          "metadata": {
            "tags": []
          }
        }
      ]
    },
    {
      "cell_type": "markdown",
      "metadata": {
        "id": "09P6-p7d5t-c",
        "colab_type": "text"
      },
      "source": [
        "# Solver\n",
        " Initialisiert den Solver"
      ]
    },
    {
      "cell_type": "code",
      "metadata": {
        "id": "0jFZfvEO5zYZ",
        "colab_type": "code",
        "colab": {}
      },
      "source": [
        "from ortools.linear_solver import pywraplp\n",
        " \n",
        "\n",
        "# Initialisiere und definiere den Solver\n",
        "solver = pywraplp.Solver('SLULSP',pywraplp.Solver.CBC_MIXED_INTEGER_PROGRAMMING)"
      ],
      "execution_count": null,
      "outputs": []
    },
    {
      "cell_type": "markdown",
      "metadata": {
        "id": "XIkB67CRHdC4",
        "colab_type": "text"
      },
      "source": [
        "\n",
        "\n",
        "# Parameterdeklaration\n",
        "\n",
        "Lädt die Parameter"
      ]
    },
    {
      "cell_type": "code",
      "metadata": {
        "id": "JgblTyZQ5n7K",
        "colab_type": "code",
        "colab": {}
      },
      "source": [
        "# PARAMETERDEFINITION\n",
        "d = [20,10,30,10]\n",
        "l = 1\n",
        "s = 20\n",
        "M = sum(d)\n",
        "T = len(d)"
      ],
      "execution_count": null,
      "outputs": []
    },
    {
      "cell_type": "markdown",
      "metadata": {
        "id": "0W5SvO5I0Khq",
        "colab_type": "text"
      },
      "source": [
        "# Variablendeklaration\n",
        "\n",
        "Legt die Variablen an und definiert den Wertebereich"
      ]
    },
    {
      "cell_type": "code",
      "metadata": {
        "id": "SAh7qlc-K3Ac",
        "colab_type": "code",
        "colab": {}
      },
      "source": [
        "# VARIABLENDEKLARATION \n",
        "L = [[]]*T\n",
        "X = [[]]*T\n",
        "y = [[]]*T \n",
        "    \n",
        "for t in range(T): \n",
        "  L[t] = solver.NumVar(0.0, solver.infinity(),  \"L_%s\"%(t))\n",
        "  X[t] = solver.NumVar(0.0, solver.infinity(),\"\")\n",
        "  y[t] = solver.BoolVar(\"\")"
      ],
      "execution_count": null,
      "outputs": []
    },
    {
      "cell_type": "markdown",
      "metadata": {
        "id": "f3bvXvrBK5gi",
        "colab_type": "text"
      },
      "source": [
        "# Nebenbedingungen\n",
        "\n",
        "Legt die Lagerbilanzgleichung und die Rüstrestriktion"
      ]
    },
    {
      "cell_type": "code",
      "metadata": {
        "id": "6wT0kfAoBI42",
        "colab_type": "code",
        "colab": {}
      },
      "source": [
        "#### DEFINITION DER NEBENBEDINGUNGEN ####\n",
        "\n",
        "# (2) Lagerbilanzgleichung\n",
        "\n",
        "# Erste Periode (ohne Anfangslagerbestand)\n",
        "solver.Add(X[0] - d[0] == L[0])\n",
        "# Alle anderen Perioden \n",
        "# (unter Berücksichtigung des Lagerendbestands der Vorperiode)\n",
        "for t in range(1,T):\n",
        "  solver.Add(L[t-1]+X[t]-d[t]==L[t])\n",
        " \n",
        "# (3) Rüstrestriktion\n",
        "for t in range(T):\n",
        "  solver.Add(X[t] <= y[t]*M)"
      ],
      "execution_count": null,
      "outputs": []
    },
    {
      "cell_type": "markdown",
      "metadata": {
        "id": "GYmvBdMDA_ub",
        "colab_type": "text"
      },
      "source": [
        "# Definition der Zielfunktion \n",
        "Minimerung der Summe aus Lage- und Rüstkosten"
      ]
    },
    {
      "cell_type": "code",
      "metadata": {
        "id": "uFEGkDdkBOLL",
        "colab_type": "code",
        "colab": {}
      },
      "source": [
        "# DEFINITION DER ZIELFUNKTION\n",
        "objective = solver.Objective()\n",
        "for t in range(T):\n",
        "  objective.SetCoefficient(L[t], l) # Multipliziert L[t] mit l und fügt ein \"+\" hinter\n",
        "  objective.SetCoefficient(y[t], s) # Multipliziert y[t] mit s und fügt ein \"+\" hinter\n",
        "objective.SetMinimization()"
      ],
      "execution_count": null,
      "outputs": []
    },
    {
      "cell_type": "markdown",
      "metadata": {
        "id": "L92z6noUBPbp",
        "colab_type": "text"
      },
      "source": [
        "# Triggern des Lösungsvorgangs\n",
        "\n",
        "Ausgabe der Lösung"
      ]
    },
    {
      "cell_type": "code",
      "metadata": {
        "id": "LRHKQh-4Hgr1",
        "colab_type": "code",
        "colab": {
          "base_uri": "https://localhost:8080/",
          "height": 237
        },
        "outputId": "cadb2395-ee6e-4a9e-a58a-6f3e707d357a"
      },
      "source": [
        "# TRIGGERN DES LÖSUNGSVORGANGS\n",
        "status = solver.Solve()\n",
        "    \n",
        " \n",
        "# AUSGABE DER LÖSUNG\n",
        "print('Number of variables =', solver.NumVariables())\n",
        "print('Number of constraints =', solver.NumConstraints())\n",
        "\n",
        "if status == pywraplp.Solver.OPTIMAL:\n",
        "  print('Lösung:')\n",
        "  print('Zielfunktionswert =', solver.Objective().Value())\n",
        "  print('X =', [X[t].solution_value() for t in range(T)])\n",
        "  print('y =', [y[t].solution_value() for t in range(T)])\n",
        "  print(\"L =\", [L[t].solution_value() for t in range(T)])\n",
        "else:\n",
        "  print('The problem does not have an optimal solution.')\n",
        "    \n",
        "# AUSGABE DER LÖSUNGSZEIT UND ANGABEN ZUM LÖSUNGSVORGANG\n",
        "print('\\nAdvanced usage:')\n",
        "print('Problem solved in %f milliseconds' % solver.wall_time())\n",
        "print('Problem solved in %d iterations' % solver.iterations())\n",
        "print('Problem solved in %d branch-and-bound nodes' % solver.nodes())\n",
        "    \n"
      ],
      "execution_count": null,
    }
  ]
}
